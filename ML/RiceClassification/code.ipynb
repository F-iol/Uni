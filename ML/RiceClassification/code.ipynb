{
 "cells": [
  {
   "cell_type": "code",
   "execution_count": 74,
   "id": "32fb3403",
   "metadata": {},
   "outputs": [],
   "source": [
    "import pandas as pd\n",
    "import torch\n",
    "import torch.nn as nn\n",
    "from torch.optim import Adam\n",
    "from torch.utils.data import Dataset,DataLoader\n",
    "from torchsummary import summary\n",
    "from sklearn.model_selection import train_test_split\n",
    "from sklearn.metrics import accuracy_score\n",
    "import matplotlib.pyplot as plt\n",
    "import seaborn as sns\n",
    "import numpy as np"
   ]
  },
  {
   "cell_type": "code",
   "execution_count": 75,
   "id": "95d3cff2",
   "metadata": {},
   "outputs": [
    {
     "data": {
      "text/plain": [
       "'cuda'"
      ]
     },
     "execution_count": 75,
     "metadata": {},
     "output_type": "execute_result"
    }
   ],
   "source": [
    "device = 'cuda' if torch.cuda.is_available() else 'cpu'\n",
    "device"
   ]
  },
  {
   "cell_type": "code",
   "execution_count": 76,
   "id": "54228b79",
   "metadata": {},
   "outputs": [],
   "source": [
    "df= pd.read_csv('riceClassification.csv')"
   ]
  },
  {
   "cell_type": "code",
   "execution_count": 77,
   "id": "248c7c7f",
   "metadata": {},
   "outputs": [
    {
     "data": {
      "text/html": [
       "<div>\n",
       "<style scoped>\n",
       "    .dataframe tbody tr th:only-of-type {\n",
       "        vertical-align: middle;\n",
       "    }\n",
       "\n",
       "    .dataframe tbody tr th {\n",
       "        vertical-align: top;\n",
       "    }\n",
       "\n",
       "    .dataframe thead th {\n",
       "        text-align: right;\n",
       "    }\n",
       "</style>\n",
       "<table border=\"1\" class=\"dataframe\">\n",
       "  <thead>\n",
       "    <tr style=\"text-align: right;\">\n",
       "      <th></th>\n",
       "      <th>id</th>\n",
       "      <th>Area</th>\n",
       "      <th>MajorAxisLength</th>\n",
       "      <th>MinorAxisLength</th>\n",
       "      <th>Eccentricity</th>\n",
       "      <th>ConvexArea</th>\n",
       "      <th>EquivDiameter</th>\n",
       "      <th>Extent</th>\n",
       "      <th>Perimeter</th>\n",
       "      <th>Roundness</th>\n",
       "      <th>AspectRation</th>\n",
       "      <th>Class</th>\n",
       "    </tr>\n",
       "  </thead>\n",
       "  <tbody>\n",
       "    <tr>\n",
       "      <th>9058</th>\n",
       "      <td>9059</td>\n",
       "      <td>5891</td>\n",
       "      <td>156.936756</td>\n",
       "      <td>49.068542</td>\n",
       "      <td>0.949864</td>\n",
       "      <td>6099</td>\n",
       "      <td>86.606317</td>\n",
       "      <td>0.629246</td>\n",
       "      <td>347.090</td>\n",
       "      <td>0.614490</td>\n",
       "      <td>3.198317</td>\n",
       "      <td>1</td>\n",
       "    </tr>\n",
       "    <tr>\n",
       "      <th>6980</th>\n",
       "      <td>6981</td>\n",
       "      <td>5763</td>\n",
       "      <td>150.939110</td>\n",
       "      <td>49.577433</td>\n",
       "      <td>0.944518</td>\n",
       "      <td>5950</td>\n",
       "      <td>85.660256</td>\n",
       "      <td>0.457381</td>\n",
       "      <td>339.960</td>\n",
       "      <td>0.626618</td>\n",
       "      <td>3.044512</td>\n",
       "      <td>1</td>\n",
       "    </tr>\n",
       "    <tr>\n",
       "      <th>17075</th>\n",
       "      <td>17076</td>\n",
       "      <td>8685</td>\n",
       "      <td>160.960933</td>\n",
       "      <td>69.190196</td>\n",
       "      <td>0.902897</td>\n",
       "      <td>8832</td>\n",
       "      <td>105.157432</td>\n",
       "      <td>0.780323</td>\n",
       "      <td>375.688</td>\n",
       "      <td>0.773259</td>\n",
       "      <td>2.326355</td>\n",
       "      <td>0</td>\n",
       "    </tr>\n",
       "  </tbody>\n",
       "</table>\n",
       "</div>"
      ],
      "text/plain": [
       "          id  Area  MajorAxisLength  MinorAxisLength  Eccentricity  \\\n",
       "9058    9059  5891       156.936756        49.068542      0.949864   \n",
       "6980    6981  5763       150.939110        49.577433      0.944518   \n",
       "17075  17076  8685       160.960933        69.190196      0.902897   \n",
       "\n",
       "       ConvexArea  EquivDiameter    Extent  Perimeter  Roundness  \\\n",
       "9058         6099      86.606317  0.629246    347.090   0.614490   \n",
       "6980         5950      85.660256  0.457381    339.960   0.626618   \n",
       "17075        8832     105.157432  0.780323    375.688   0.773259   \n",
       "\n",
       "       AspectRation  Class  \n",
       "9058       3.198317      1  \n",
       "6980       3.044512      1  \n",
       "17075      2.326355      0  "
      ]
     },
     "execution_count": 77,
     "metadata": {},
     "output_type": "execute_result"
    }
   ],
   "source": [
    "df.sample(3)"
   ]
  },
  {
   "cell_type": "code",
   "execution_count": 78,
   "id": "edd4a4db",
   "metadata": {},
   "outputs": [],
   "source": [
    "df.drop('id',inplace=True,axis=1)"
   ]
  },
  {
   "cell_type": "code",
   "execution_count": 79,
   "id": "c0dd2b45",
   "metadata": {},
   "outputs": [],
   "source": [
    "original_df =  df.copy()"
   ]
  },
  {
   "cell_type": "code",
   "execution_count": 80,
   "id": "d87aff7c",
   "metadata": {},
   "outputs": [],
   "source": [
    "X_train , x_temp ,y_train , y_temp = train_test_split(df.drop('Class',axis=1),df['Class'],test_size=.4,random_state=69)\n",
    "X_valid,X_test,y_valid,y_test = train_test_split(x_temp,y_temp,test_size=.5,random_state=69)"
   ]
  },
  {
   "cell_type": "code",
   "execution_count": 81,
   "id": "2f2a0d67",
   "metadata": {},
   "outputs": [],
   "source": [
    "from sklearn.preprocessing import MinMaxScaler\n",
    "scaler = MinMaxScaler()"
   ]
  },
  {
   "cell_type": "code",
   "execution_count": 82,
   "id": "9c310e37",
   "metadata": {},
   "outputs": [],
   "source": [
    "X_train_scaled = scaler.fit_transform(X_train)\n",
    "X_valid_scaled = scaler.transform(X_valid)\n",
    "X_test_scaled = scaler.transform(X_test)"
   ]
  },
  {
   "cell_type": "code",
   "execution_count": 83,
   "id": "5bf90d68",
   "metadata": {},
   "outputs": [],
   "source": [
    "# X_train_scaled = pd.DataFrame(X_train_scaled,columns=X_train.columns,index=X_train.index)\n",
    "# X_valid_scaled = pd.DataFrame(X_valid_scaled,columns=X_valid.columns,index=X_valid.index)\n",
    "# X_test_scaled = pd.DataFrame(X_test_scaled,columns=X_test.columns,index=X_test.index)\n"
   ]
  },
  {
   "cell_type": "code",
   "execution_count": 84,
   "id": "e9ed8722",
   "metadata": {},
   "outputs": [],
   "source": [
    "class dataset(Dataset):\n",
    "    def __init__(self,X,Y):\n",
    "        self.X = torch.tensor(X,dtype=torch.float32).to(device)\n",
    "        self.Y = torch.tensor(Y,dtype=torch.float32).to(device)\n",
    "        \n",
    "    def __len__(self):\n",
    "        return len(self.X)\n",
    "    \n",
    "    def __getitem__(self, index):\n",
    "        return self.X[index] , self.Y[index]\n",
    "        "
   ]
  },
  {
   "cell_type": "code",
   "execution_count": 85,
   "id": "661686ca",
   "metadata": {},
   "outputs": [],
   "source": [
    "training_data = dataset(X_train_scaled, y_train.values)\n",
    "validation_data = dataset(X_valid_scaled, y_valid.values)\n",
    "test_data = dataset(X_test_scaled, y_test.values)"
   ]
  },
  {
   "cell_type": "code",
   "execution_count": 86,
   "id": "67c38997",
   "metadata": {},
   "outputs": [],
   "source": [
    "train_dataloader = DataLoader(training_data,batch_size=32,shuffle=True)\n",
    "validation_dataloader = DataLoader(validation_data,batch_size=32,shuffle=True)\n",
    "test_dataloader = DataLoader(test_data,batch_size=32,shuffle=True)"
   ]
  },
  {
   "cell_type": "code",
   "execution_count": 87,
   "id": "179301b6",
   "metadata": {},
   "outputs": [],
   "source": [
    "HIDDEN_NEURON = 10 \n",
    "class MyModel(nn.Module):\n",
    "    def __init__(self):\n",
    "        super().__init__()\n",
    "        self.input_layer =nn.Linear(df.drop('Class',axis=1).shape[1],HIDDEN_NEURON)\n",
    "        self.linear = nn.Linear(HIDDEN_NEURON,1)\n",
    "        self.sigmoid = nn.Sigmoid()\n",
    "        \n",
    "    def forward(self,x):\n",
    "        x = self.input_layer(x)\n",
    "        x = self.linear(x)\n",
    "        x = self.sigmoid(x)\n",
    "        return x"
   ]
  },
  {
   "cell_type": "code",
   "execution_count": 88,
   "id": "65555057",
   "metadata": {},
   "outputs": [],
   "source": [
    "model = MyModel().to(device)"
   ]
  },
  {
   "cell_type": "code",
   "execution_count": 89,
   "id": "899ea536",
   "metadata": {},
   "outputs": [
    {
     "name": "stdout",
     "output_type": "stream",
     "text": [
      "----------------------------------------------------------------\n",
      "        Layer (type)               Output Shape         Param #\n",
      "================================================================\n",
      "            Linear-1                   [-1, 10]             110\n",
      "            Linear-2                    [-1, 1]              11\n",
      "           Sigmoid-3                    [-1, 1]               0\n",
      "================================================================\n",
      "Total params: 121\n",
      "Trainable params: 121\n",
      "Non-trainable params: 0\n",
      "----------------------------------------------------------------\n",
      "Input size (MB): 0.00\n",
      "Forward/backward pass size (MB): 0.00\n",
      "Params size (MB): 0.00\n",
      "Estimated Total Size (MB): 0.00\n",
      "----------------------------------------------------------------\n"
     ]
    }
   ],
   "source": [
    "summary(model,(df.drop('Class',axis=1).shape[1],))"
   ]
  },
  {
   "cell_type": "code",
   "execution_count": 90,
   "id": "c23ce481",
   "metadata": {},
   "outputs": [],
   "source": [
    "criterion =nn.BCELoss()\n",
    "optimazer = Adam(model.parameters(),lr=1e-3)"
   ]
  },
  {
   "cell_type": "code",
   "execution_count": 91,
   "metadata": {},
   "outputs": [],
   "source": [
    "total_loss_train_plot = []\n",
    "total_loss_validation_plot = []\n",
    "total_acc_train_plot = []\n",
    "total_acc_validation_plot = []\n"
   ]
  },
  {
   "cell_type": "code",
   "execution_count": 92,
   "id": "6ea3d968",
   "metadata": {},
   "outputs": [
    {
     "name": "stdout",
     "output_type": "stream",
     "text": [
      "Epoch no.1 Train Loss: 0.0142 Train Accuracy: 98.0937\n",
      "Epoch no.1 Validation Loss: 0.0076 Validation Accuracy: 98.3228\n",
      "==================================================\n",
      "Epoch no.2 Train Loss: 0.0047 Train Accuracy: 98.4328\n",
      "Epoch no.2 Validation Loss: 0.0031 Validation Accuracy: 98.4328\n",
      "==================================================\n",
      "Epoch no.3 Train Loss: 0.0025 Train Accuracy: 98.5428\n",
      "Epoch no.3 Validation Loss: 0.0021 Validation Accuracy: 98.5153\n",
      "==================================================\n",
      "Epoch no.4 Train Loss: 0.0019 Train Accuracy: 98.5153\n",
      "Epoch no.4 Validation Loss: 0.0017 Validation Accuracy: 98.5977\n",
      "==================================================\n",
      "Epoch no.5 Train Loss: 0.0017 Train Accuracy: 98.5886\n",
      "Epoch no.5 Validation Loss: 0.0015 Validation Accuracy: 98.5703\n",
      "==================================================\n",
      "Epoch no.6 Train Loss: 0.0015 Train Accuracy: 98.5336\n",
      "Epoch no.6 Validation Loss: 0.0014 Validation Accuracy: 98.5977\n",
      "==================================================\n",
      "Epoch no.7 Train Loss: 0.0015 Train Accuracy: 98.5153\n",
      "Epoch no.7 Validation Loss: 0.0013 Validation Accuracy: 98.6527\n",
      "==================================================\n",
      "Epoch no.8 Train Loss: 0.0014 Train Accuracy: 98.4878\n",
      "Epoch no.8 Validation Loss: 0.0013 Validation Accuracy: 98.7352\n",
      "==================================================\n",
      "Epoch no.9 Train Loss: 0.0014 Train Accuracy: 98.5153\n",
      "Epoch no.9 Validation Loss: 0.0013 Validation Accuracy: 98.7352\n",
      "==================================================\n",
      "Epoch no.10 Train Loss: 0.0014 Train Accuracy: 98.5794\n",
      "Epoch no.10 Validation Loss: 0.0013 Validation Accuracy: 98.5428\n",
      "==================================================\n"
     ]
    }
   ],
   "source": [
    "epochs=10\n",
    "for epoch in range(epochs):\n",
    "    total_acc_train = 0\n",
    "    total_loss_train = 0\n",
    "    total_acc_validation = 0\n",
    "    total_loss_validation = 0\n",
    "\n",
    "    for data in train_dataloader:\n",
    "        inputs, labels = data\n",
    "\n",
    "        prediction = model(inputs).squeeze(1)\n",
    "\n",
    "        batch_loss = criterion(prediction,labels)\n",
    "\n",
    "        total_loss_train += batch_loss.item()\n",
    "\n",
    "        acc = (prediction.round() == labels).sum().item()\n",
    "        total_acc_train += acc\n",
    "\n",
    "        \n",
    "        batch_loss.backward()\n",
    "        optimazer.step()\n",
    "        optimazer.zero_grad()\n",
    "\n",
    "    with torch.no_grad():\n",
    "        for validation in validation_dataloader:\n",
    "            inputs  ,labels=validation\n",
    "\n",
    "            prediction=model(inputs).squeeze(1)\n",
    "            batch_loss = criterion(prediction,labels)\n",
    "            total_loss_validation += batch_loss.item()\n",
    "\n",
    "            acc = (prediction.round()==labels).sum().item()\n",
    "\n",
    "            total_acc_validation += acc\n",
    "    \n",
    "    total_loss_train_plot.append(round(total_loss_train/training_data.__len__(),4))\n",
    "    total_loss_validation_plot.append(round(total_loss_validation/validation_data.__len__(),4))\n",
    "\n",
    "    total_acc_train_plot.append(round(total_acc_train/training_data.__len__()*100,4))\n",
    "    total_acc_validation_plot.append(round(total_acc_validation/validation_data.__len__()*100,4))\n",
    "\n",
    "    print(f'Epoch no.{epoch+1} Train Loss: {total_loss_train_plot[epoch]} Train Accuracy: {total_acc_train_plot[epoch]}')\n",
    "    print(f'Epoch no.{epoch+1} Validation Loss: {total_loss_validation_plot[epoch]} Validation Accuracy: {total_acc_validation_plot[epoch]}')\n",
    "    print('='*50)"
   ]
  },
  {
   "cell_type": "code",
   "execution_count": 97,
   "id": "a8191817",
   "metadata": {},
   "outputs": [
    {
     "name": "stdout",
     "output_type": "stream",
     "text": [
      "Accuracy for TestSet:98.5977\n"
     ]
    }
   ],
   "source": [
    "model.eval()\n",
    "with torch.no_grad():\n",
    "    total_loss_test =0\n",
    "    total_acc_test = 0\n",
    "    for data in test_dataloader:\n",
    "        inputs,labels = data\n",
    "\n",
    "        prediction = model(inputs).squeeze(1)\n",
    "\n",
    "        batch_loss_test = criterion(prediction,labels).item()\n",
    "        total_loss_test +=batch_loss_test\n",
    "        \n",
    "        acc = (prediction.round() == labels).sum().item()\n",
    "\n",
    "        total_acc_test+= acc\n",
    "\n",
    "    print(f'Accuracy for TestSet:{round(total_acc_test/test_data.__len__()*100,4)}')\n"
   ]
  },
  {
   "cell_type": "code",
   "execution_count": 116,
   "id": "da9bff88",
   "metadata": {},
   "outputs": [
    {
     "data": {
      "text/plain": [
       "<matplotlib.legend.Legend at 0x1d89d9a17e0>"
      ]
     },
     "execution_count": 116,
     "metadata": {},
     "output_type": "execute_result"
    },
    {
     "data": {
      "image/png": "[encoded data removed]",
      "text/plain": [
       "<Figure size 1500x500 with 2 Axes>"
      ]
     },
     "metadata": {},
     "output_type": "display_data"
    }
   ],
   "source": [
    "fig,axs=  plt.subplots(nrows=1,ncols=2,figsize=(15,5))\n",
    "axs[0].plot(total_loss_train_plot,label = 'Training Loss')\n",
    "axs[0].plot(total_loss_validation_plot,label='Validation Loss')\n",
    "axs[0].set_title('Training Loss vs Validations Loss')\n",
    "axs[0].set_xlabel('Epoch')\n",
    "axs[0].set_ylabel('Loss')\n",
    "axs[0].legend()\n",
    "\n",
    "axs[1].plot(total_acc_train_plot,label = 'Training Acc')\n",
    "axs[1].plot(total_acc_validation_plot,label='Validation Acc')\n",
    "axs[1].set_title('Training Acc vs Validations Acc')\n",
    "axs[1].set_xlabel('Epoch')\n",
    "axs[1].set_ylabel('Acc')\n",
    "axs[1].legend()"
   ]
  },
  {
   "cell_type": "code",
   "execution_count": 126,
   "id": "ea4d3799",
   "metadata": {},
   "outputs": [],
   "source": [
    "area = ((4537 - original_df['Area'].min())/(original_df['Area'].max()-original_df['Area'].min()))"
   ]
  },
  {
   "cell_type": "code",
   "execution_count": 127,
   "id": "a59e622b",
   "metadata": {},
   "outputs": [
    {
     "data": {
      "text/plain": [
       "np.float64(0.2620967741935484)"
      ]
     },
     "execution_count": 127,
     "metadata": {},
     "output_type": "execute_result"
    }
   ],
   "source": [
    "area"
   ]
  },
  {
   "cell_type": "code",
   "execution_count": null,
   "id": "46ebe10a",
   "metadata": {},
   "outputs": [],
   "source": []
  }
 ],
 "metadata": {
  "kernelspec": {
   "display_name": "MLvenv",
   "language": "python",
   "name": "python3"
  },
  "language_info": {
   "codemirror_mode": {
    "name": "ipython",
    "version": 3
   },
   "file_extension": ".py",
   "mimetype": "text/x-python",
   "name": "python",
   "nbconvert_exporter": "python",
   "pygments_lexer": "ipython3",
   "version": "3.10.0"
  }
 },
 "nbformat": 4,
 "nbformat_minor": 5
}
