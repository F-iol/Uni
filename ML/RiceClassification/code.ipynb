{
 "cells": [
  {
   "cell_type": "code",
   "execution_count": 144,
   "id": "32fb3403",
   "metadata": {},
   "outputs": [],
   "source": [
    "import pandas as pd\n",
    "import torch\n",
    "import torch.nn as nn\n",
    "from torch.optim import Adam\n",
    "from torch.utils.data import Dataset,DataLoader\n",
    "from torchsummary import summary\n",
    "from sklearn.model_selection import train_test_split\n",
    "from sklearn.metrics import accuracy_score\n",
    "import matplotlib.pyplot as plt\n",
    "import seaborn as sns\n",
    "import numpy as np"
   ]
  },
  {
   "cell_type": "code",
   "execution_count": 145,
   "id": "95d3cff2",
   "metadata": {},
   "outputs": [
    {
     "data": {
      "text/plain": [
       "'cpu'"
      ]
     },
     "execution_count": 145,
     "metadata": {},
     "output_type": "execute_result"
    }
   ],
   "source": [
    "device = 'cuda' if torch.cuda.is_available() else 'cpu'\n",
    "device"
   ]
  },
  {
   "cell_type": "code",
   "execution_count": 146,
   "id": "54228b79",
   "metadata": {},
   "outputs": [],
   "source": [
    "df= pd.read_csv('riceClassification.csv')"
   ]
  },
  {
   "cell_type": "code",
   "execution_count": 147,
   "id": "248c7c7f",
   "metadata": {},
   "outputs": [
    {
     "data": {
      "text/html": [
       "<div>\n",
       "<style scoped>\n",
       "    .dataframe tbody tr th:only-of-type {\n",
       "        vertical-align: middle;\n",
       "    }\n",
       "\n",
       "    .dataframe tbody tr th {\n",
       "        vertical-align: top;\n",
       "    }\n",
       "\n",
       "    .dataframe thead th {\n",
       "        text-align: right;\n",
       "    }\n",
       "</style>\n",
       "<table border=\"1\" class=\"dataframe\">\n",
       "  <thead>\n",
       "    <tr style=\"text-align: right;\">\n",
       "      <th></th>\n",
       "      <th>id</th>\n",
       "      <th>Area</th>\n",
       "      <th>MajorAxisLength</th>\n",
       "      <th>MinorAxisLength</th>\n",
       "      <th>Eccentricity</th>\n",
       "      <th>ConvexArea</th>\n",
       "      <th>EquivDiameter</th>\n",
       "      <th>Extent</th>\n",
       "      <th>Perimeter</th>\n",
       "      <th>Roundness</th>\n",
       "      <th>AspectRation</th>\n",
       "      <th>Class</th>\n",
       "    </tr>\n",
       "  </thead>\n",
       "  <tbody>\n",
       "    <tr>\n",
       "      <th>16544</th>\n",
       "      <td>16545</td>\n",
       "      <td>9050</td>\n",
       "      <td>163.187697</td>\n",
       "      <td>71.097956</td>\n",
       "      <td>0.900101</td>\n",
       "      <td>9236</td>\n",
       "      <td>107.344389</td>\n",
       "      <td>0.587357</td>\n",
       "      <td>385.411</td>\n",
       "      <td>0.765615</td>\n",
       "      <td>2.295252</td>\n",
       "      <td>0</td>\n",
       "    </tr>\n",
       "    <tr>\n",
       "      <th>5867</th>\n",
       "      <td>5868</td>\n",
       "      <td>6260</td>\n",
       "      <td>156.648670</td>\n",
       "      <td>52.583070</td>\n",
       "      <td>0.941978</td>\n",
       "      <td>6488</td>\n",
       "      <td>89.277542</td>\n",
       "      <td>0.743910</td>\n",
       "      <td>350.183</td>\n",
       "      <td>0.641496</td>\n",
       "      <td>2.979070</td>\n",
       "      <td>1</td>\n",
       "    </tr>\n",
       "    <tr>\n",
       "      <th>8113</th>\n",
       "      <td>8114</td>\n",
       "      <td>4270</td>\n",
       "      <td>130.944953</td>\n",
       "      <td>41.979872</td>\n",
       "      <td>0.947217</td>\n",
       "      <td>4414</td>\n",
       "      <td>73.734204</td>\n",
       "      <td>0.704272</td>\n",
       "      <td>289.233</td>\n",
       "      <td>0.641419</td>\n",
       "      <td>3.119232</td>\n",
       "      <td>1</td>\n",
       "    </tr>\n",
       "  </tbody>\n",
       "</table>\n",
       "</div>"
      ],
      "text/plain": [
       "          id  Area  MajorAxisLength  MinorAxisLength  Eccentricity  \\\n",
       "16544  16545  9050       163.187697        71.097956      0.900101   \n",
       "5867    5868  6260       156.648670        52.583070      0.941978   \n",
       "8113    8114  4270       130.944953        41.979872      0.947217   \n",
       "\n",
       "       ConvexArea  EquivDiameter    Extent  Perimeter  Roundness  \\\n",
       "16544        9236     107.344389  0.587357    385.411   0.765615   \n",
       "5867         6488      89.277542  0.743910    350.183   0.641496   \n",
       "8113         4414      73.734204  0.704272    289.233   0.641419   \n",
       "\n",
       "       AspectRation  Class  \n",
       "16544      2.295252      0  \n",
       "5867       2.979070      1  \n",
       "8113       3.119232      1  "
      ]
     },
     "execution_count": 147,
     "metadata": {},
     "output_type": "execute_result"
    }
   ],
   "source": [
    "df.sample(3)"
   ]
  },
  {
   "cell_type": "code",
   "execution_count": 148,
   "id": "edd4a4db",
   "metadata": {},
   "outputs": [],
   "source": [
    "df.drop('id',inplace=True,axis=1)"
   ]
  },
  {
   "cell_type": "code",
   "execution_count": 149,
   "id": "c0dd2b45",
   "metadata": {},
   "outputs": [],
   "source": [
    "original_df =  df.copy()"
   ]
  },
  {
   "cell_type": "code",
   "execution_count": 150,
   "id": "d87aff7c",
   "metadata": {},
   "outputs": [],
   "source": [
    "X_train , x_temp ,y_train , y_temp = train_test_split(df.drop('Class',axis=1),df['Class'],test_size=.4,random_state=69)\n",
    "X_valid,X_test,y_valid,y_test = train_test_split(x_temp,y_temp,test_size=.5,random_state=69)"
   ]
  },
  {
   "cell_type": "code",
   "execution_count": 151,
   "id": "2f2a0d67",
   "metadata": {},
   "outputs": [],
   "source": [
    "from sklearn.preprocessing import MinMaxScaler\n",
    "scaler = MinMaxScaler()"
   ]
  },
  {
   "cell_type": "code",
   "execution_count": 152,
   "id": "9c310e37",
   "metadata": {},
   "outputs": [],
   "source": [
    "X_train_scaled = scaler.fit_transform(X_train)\n",
    "X_valid_scaled = scaler.transform(X_valid)\n",
    "X_test_scaled = scaler.transform(X_test)"
   ]
  },
  {
   "cell_type": "code",
   "execution_count": 153,
   "id": "5bf90d68",
   "metadata": {},
   "outputs": [],
   "source": [
    "# X_train_scaled = pd.DataFrame(X_train_scaled,columns=X_train.columns,index=X_train.index)\n",
    "# X_valid_scaled = pd.DataFrame(X_valid_scaled,columns=X_valid.columns,index=X_valid.index)\n",
    "# X_test_scaled = pd.DataFrame(X_test_scaled,columns=X_test.columns,index=X_test.index)\n"
   ]
  },
  {
   "cell_type": "code",
   "execution_count": null,
   "id": "e9ed8722",
   "metadata": {},
   "outputs": [],
   "source": [
    "class dataset(Dataset):\n",
    "    def __init__(self,X,Y):\n",
    "        self.X = torch.tensor(X,dtype=torch.float32).to(device)\n",
    "        self.Y = torch.tensor(Y,dtype=torch.float32).to(device)\n",
    "        \n",
    "    def __len__(self):\n",
    "        return len(self.X)\n",
    "    \n",
    "    def __getitem__(self, index):\n",
    "        return self.X[index] , self.Y[index]\n",
    "        "
   ]
  },
  {
   "cell_type": "code",
   "execution_count": 182,
   "id": "661686ca",
   "metadata": {},
   "outputs": [],
   "source": [
    "training_data = dataset(X_train_scaled, y_train.values)\n",
    "validation_data = dataset(X_valid_scaled, y_valid.values)\n",
    "test_data = dataset(X_test_scaled, y_test.values)"
   ]
  },
  {
   "cell_type": "code",
   "execution_count": 188,
   "id": "67c38997",
   "metadata": {},
   "outputs": [],
   "source": [
    "train_dataloader = DataLoader(training_data,batch_size=8,shuffle=True)\n",
    "validation_dataloader = DataLoader(validation_data,batch_size=8,shuffle=True)\n",
    "test_dataloader = DataLoader(test_data,batch_size=8,shuffle=True)"
   ]
  },
  {
   "cell_type": "code",
   "execution_count": 197,
   "id": "179301b6",
   "metadata": {},
   "outputs": [],
   "source": [
    "HIDDEN_NEURON = 10 \n",
    "class MyModel(nn.Module):\n",
    "    def __init__(self):\n",
    "        super(MyModel,self).__init__()\n",
    "        self.input_layer =nn.Linear(df.drop('Class',axis=1).shape[1],HIDDEN_NEURON)\n",
    "        self.linear = nn.Linear(HIDDEN_NEURON,1)\n",
    "        self.sigmoid = nn.Sigmoid()\n",
    "        \n",
    "    def forward(self,x):\n",
    "        x = self.input_layer(x)\n",
    "        x = self.linear(x)\n",
    "        x = self.sigmoid(x)\n",
    "        return x"
   ]
  },
  {
   "cell_type": "code",
   "execution_count": 198,
   "id": "65555057",
   "metadata": {},
   "outputs": [],
   "source": [
    "model = MyModel().to(device)"
   ]
  },
  {
   "cell_type": "code",
   "execution_count": 206,
   "id": "899ea536",
   "metadata": {},
   "outputs": [
    {
     "name": "stdout",
     "output_type": "stream",
     "text": [
      "----------------------------------------------------------------\n",
      "        Layer (type)               Output Shape         Param #\n",
      "================================================================\n",
      "            Linear-1                   [-1, 10]             110\n",
      "            Linear-2                    [-1, 1]              11\n",
      "           Sigmoid-3                    [-1, 1]               0\n",
      "================================================================\n",
      "Total params: 121\n",
      "Trainable params: 121\n",
      "Non-trainable params: 0\n",
      "----------------------------------------------------------------\n",
      "Input size (MB): 0.00\n",
      "Forward/backward pass size (MB): 0.00\n",
      "Params size (MB): 0.00\n",
      "Estimated Total Size (MB): 0.00\n",
      "----------------------------------------------------------------\n"
     ]
    }
   ],
   "source": [
    "summary(model,(df.drop('Class',axis=1).shape[1],))"
   ]
  },
  {
   "cell_type": "code",
   "execution_count": 209,
   "id": "c23ce481",
   "metadata": {},
   "outputs": [],
   "source": [
    "criterion =nn.BCELoss()\n",
    "optimazer = Adam(model.parameters(),lr=1e-3)"
   ]
  },
  {
   "cell_type": "code",
   "execution_count": null,
   "metadata": {},
   "outputs": [],
   "source": []
  },
  {
   "cell_type": "code",
   "execution_count": null,
   "id": "6ea3d968",
   "metadata": {},
   "outputs": [],
   "source": []
  },
  {
   "cell_type": "code",
   "execution_count": null,
   "id": "62c1faa1",
   "metadata": {},
   "outputs": [],
   "source": []
  },
  {
   "cell_type": "code",
   "execution_count": null,
   "id": "c1cc4aea",
   "metadata": {},
   "outputs": [],
   "source": []
  },
  {
   "cell_type": "code",
   "execution_count": null,
   "id": "f70866c4",
   "metadata": {},
   "outputs": [],
   "source": []
  },
  {
   "cell_type": "code",
   "execution_count": null,
   "id": "da9bff88",
   "metadata": {},
   "outputs": [],
   "source": []
  },
  {
   "cell_type": "code",
   "execution_count": null,
   "id": "b896d880",
   "metadata": {},
   "outputs": [],
   "source": []
  }
 ],
 "metadata": {
  "kernelspec": {
   "display_name": "Python 3",
   "language": "python",
   "name": "python3"
  },
  "language_info": {
   "codemirror_mode": {
    "name": "ipython",
    "version": 3
   },
   "file_extension": ".py",
   "mimetype": "text/x-python",
   "name": "python",
   "nbconvert_exporter": "python",
   "pygments_lexer": "ipython3",
   "version": "3.13.7"
  }
 },
 "nbformat": 4,
 "nbformat_minor": 5
}
